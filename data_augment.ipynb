{
 "cells": [
  {
   "cell_type": "code",
   "execution_count": 1,
   "metadata": {},
   "outputs": [],
   "source": [
    "import os\n",
    "import re\n",
    "import numpy as np\n",
    "from PIL import Image, ImageEnhance\n",
    "import matplotlib.pyplot as plt\n",
    "from tqdm import tqdm\n",
    "import random"
   ]
  },
  {
   "cell_type": "code",
   "execution_count": 2,
   "metadata": {},
   "outputs": [
    {
     "name": "stdout",
     "output_type": "stream",
     "text": [
      "Max width: 332, Max height: 213\n"
     ]
    }
   ],
   "source": [
    "obj_files = [x for x in os.listdir('objects/') if x[-3:] == 'png']\n",
    "scene_files = [x for x in os.listdir('scenes/') if x[-3:] in ['png','peg','jpg']]\n",
    "\n",
    "height, width = [], []\n",
    "for obj_file in obj_files:\n",
    "    height.append(Image.open('objects/'+obj_file).height)\n",
    "    width.append(Image.open('objects/'+obj_file).width)\n",
    "print('Max width: {}, Max height: {}'.format(max(height), max(width)))"
   ]
  },
  {
   "cell_type": "code",
   "execution_count": 3,
   "metadata": {},
   "outputs": [],
   "source": [
    "def get_class(obj_file):\n",
    "    return list(filter(None, re.split(r'(\\d+)', obj_file)))[0]"
   ]
  },
  {
   "cell_type": "code",
   "execution_count": 4,
   "metadata": {},
   "outputs": [],
   "source": [
    "def shuffle_rgb(obj):\n",
    "    order = [0,1,2]\n",
    "    random.shuffle(order)\n",
    "    new_obj = np.array(obj)[:,:,order+[3]]\n",
    "    # if the red channel is switched, take the weighted average of the new one (30%) w original (70%)\n",
    "    if order[0] != 0:\n",
    "        new_obj = np.array(new_obj*0.3 + np.array(obj)*0.7, dtype=np.uint8)\n",
    "    return Image.fromarray(new_obj)"
   ]
  },
  {
   "cell_type": "code",
   "execution_count": 5,
   "metadata": {},
   "outputs": [],
   "source": [
    "def add_noise(obj):\n",
    "    w,h = obj.size\n",
    "    noise = np.random.randint(0,255,size=(h,w,4))\n",
    "    # set alpha channel to 0\n",
    "    noise[:,:,3] = 0\n",
    "    # random threshold for noise (up to 64 in magnitude)\n",
    "    threshold = np.random.rand()*64\n",
    "    noise[noise > threshold] = 0\n",
    "    new_obj = np.array(obj) + noise\n",
    "    new_obj[new_obj > 255] = 255\n",
    "    new_obj = np.array(new_obj, dtype=np.uint8)\n",
    "    return Image.fromarray(new_obj)"
   ]
  },
  {
   "cell_type": "code",
   "execution_count": 9,
   "metadata": {},
   "outputs": [
    {
     "name": "stdout",
     "output_type": "stream",
     "text": [
      "101\n",
      "41\n"
     ]
    }
   ],
   "source": [
    "print(len(obj_files))\n",
    "print(len(scene_files))"
   ]
  },
  {
   "cell_type": "code",
   "execution_count": 10,
   "metadata": {},
   "outputs": [
    {
     "name": "stderr",
     "output_type": "stream",
     "text": [
      "100%|██████████| 4000/4000 [03:53<00:00, 18.37it/s]\n"
     ]
    }
   ],
   "source": [
    "frame_w = 480\n",
    "frame_h = 288\n",
    "image_id = 0\n",
    "no_of_images = 4000\n",
    "\n",
    "for i in tqdm(range(no_of_images)):\n",
    "    # pick scenes randomly\n",
    "    scene_file = 'scenes/' + scene_files[np.random.randint(len(scene_files))]\n",
    "    scene = Image.open(scene_file).resize((480, 302)).crop((0,14,480,302))\n",
    "    \n",
    "    \"\"\"visual augmentation\"\"\"\n",
    "    # 50% horizontal flip\n",
    "    if np.random.rand() > 0.5:\n",
    "        scene = scene.transpose(method=Image.FLIP_LEFT_RIGHT)\n",
    "        \n",
    "    # 50% enhance contrast by 0.8 to 1.5 (1 = no change)\n",
    "    if np.random.rand() > 0.5:\n",
    "        scene = ImageEnhance.Contrast(scene).enhance(np.random.rand()*0.7+0.8)\n",
    "\n",
    "    # object count\n",
    "    count = 5\n",
    "    classes = {'person': '0', 'bicycle': '1', 'motorbike': '2'}\n",
    "    objs = []\n",
    "    obj_classes = []\n",
    "    selected = []\n",
    "    labels = []\n",
    "\n",
    "    while len(selected) < count:\n",
    "        obj_file = obj_files[np.random.randint(len(obj_files))]\n",
    "        # make sure no duplicate objects\n",
    "        if obj_file in selected:\n",
    "            continue\n",
    "        selected.append(obj_file)\n",
    "        obj = Image.open('objects/' + obj_file)\n",
    "        objs.append(obj)\n",
    "        obj_classes.append(get_class(obj_file))\n",
    "\n",
    "    for i,obj in enumerate(objs):\n",
    "        w, h = obj.size\n",
    "        scale = 1\n",
    "        \n",
    "        \"\"\"scaling augmentation\"\"\"\n",
    "        # resize objects, with max(w,h) of 24-120, up to 1.2x the orignal max(w,h) size\n",
    "        max_scale = 1.2\n",
    "        scale = min(max_scale, np.random.randint(24,145)/max(w,h))\n",
    "        obj = obj.resize((int(scale*w), int(scale*h)), Image.ANTIALIAS)\n",
    "        w, h = obj.size # update w and h\n",
    "        \n",
    "        # downsize max(w,h) to 90%, 50% of the time\n",
    "        if np.random.rand() > 0.5:\n",
    "            if max(w,h) == h:\n",
    "                obj = obj.resize((int(w), int(h*0.9)), Image.ANTIALIAS) \n",
    "            else:\n",
    "                obj = obj.resize((int(w*0.9), int(h)), Image.ANTIALIAS) \n",
    "            w, h = obj.size # update w and h\n",
    "        \n",
    "        \"\"\"visual augmentation\"\"\"\n",
    "        # change RGB channels 50% of the time\n",
    "        if np.random.rand() > 0.5:\n",
    "            obj = shuffle_rgb(obj)\n",
    "            \n",
    "        # add noise 50% of the time\n",
    "        if np.random.rand() > 0.5:\n",
    "            obj = add_noise(obj)\n",
    "            \n",
    "        # 50% horizontal flip\n",
    "        if np.random.rand() > 0.5:\n",
    "            obj = obj.transpose(method=Image.FLIP_LEFT_RIGHT)\n",
    "            \n",
    "        # 50% enhance contrast by 0.8 to 1.5 (1 = no change)\n",
    "        if np.random.rand() > 0.5:\n",
    "            obj = ImageEnhance.Contrast(obj).enhance(np.random.rand()*0.7+0.8)\n",
    "\n",
    "        \"\"\"position settings\"\"\"\n",
    "        # in the center of N equally spaced columns + jitter (+/- 0.25*x_grid)\n",
    "        x_grid = int(480/count)\n",
    "        x_pos = int(i*x_grid + x_grid/2 - w/2) + int((np.random.rand()-0.5)*x_grid/2)\n",
    "        x_pos = min(int(480 - w), max(0,x_pos)) # make sure obj is in image range\n",
    "\n",
    "        # random vertical position with 30% top margin, 0 btm margin\n",
    "        y_pos = int((288 - h)*(np.random.rand()*0.7+0.3))\n",
    "        \n",
    "        \"\"\"paste object into scene and create label\"\"\"\n",
    "        alpha = Image.fromarray(np.array(obj)[:,:,3], 'L')\n",
    "        scene.paste(obj, (x_pos, y_pos), alpha)\n",
    "\n",
    "        # class, x, y, w, h\n",
    "        label = ' '.join([classes[obj_classes[i]], str((x_pos + w/2)/frame_w)[:8], str((y_pos + h/2)/frame_h)[:8],\n",
    "                          str(w/frame_w)[:8], str(h/frame_h)[:8]])\n",
    "        # print(label, obj_classes[i])\n",
    "        labels.append(label)\n",
    "    \n",
    "    file_id = 'vru_image' + str(int(image_id)).zfill(6)\n",
    "\n",
    "    # save image and label files\n",
    "    scene.save('data/'+file_id + \".png\", \"PNG\")\n",
    "    \n",
    "    with open('data/'+file_id+'.txt', 'w+') as the_file:\n",
    "        the_file.writelines([l + '\\n' for l in labels])\n",
    "    image_id += 1"
   ]
  },
  {
   "cell_type": "markdown",
   "metadata": {},
   "source": [
    "---"
   ]
  },
  {
   "cell_type": "markdown",
   "metadata": {},
   "source": [
    "# VRU21k: 4k vru + 17k nuScenes/BDD\n",
    "### Select data from nuScenes and BDD100k to mix with augmented data"
   ]
  },
  {
   "cell_type": "code",
   "execution_count": 11,
   "metadata": {},
   "outputs": [],
   "source": [
    "with open('/home/sf/darknet/data/bdd100k/bdd100k_480_3c_train.txt', 'r') as f:\n",
    "    bdd_files = [x[:-1] for x in f.readlines()]\n",
    "\n",
    "with open('/home/sf/darknet/data/nuscenes/train.txt', 'r') as f:\n",
    "    nuscenes_files = [x[:-1] for x in f.readlines()]"
   ]
  },
  {
   "cell_type": "markdown",
   "metadata": {},
   "source": [
    "### bdd100k"
   ]
  },
  {
   "cell_type": "code",
   "execution_count": 17,
   "metadata": {},
   "outputs": [
    {
     "name": "stderr",
     "output_type": "stream",
     "text": [
      "100%|██████████| 70000/70000 [00:11<00:00, 5884.99it/s]\n"
     ]
    }
   ],
   "source": [
    "\"\"\"\n",
    "select bdd100k images with at least N labels, with either a motorbike or bicycle\n",
    "- 24225 images have at least 1 label\n",
    "- 17119 have at least 2\n",
    "- 12178 have at least 3\n",
    "- 9337 have at least 4\n",
    "\"\"\"\n",
    "N = 2\n",
    "bdd_filtered = []\n",
    "for bdd in tqdm(bdd_files):\n",
    "    label_file = bdd[:-3] + 'txt'\n",
    "    if os.path.isfile(label_file):\n",
    "        with open(label_file) as f:\n",
    "            labels = f.readlines()\n",
    "            length = len(labels)\n",
    "            \n",
    "        if length >= N*2:\n",
    "            bdd_filtered.append(bdd)\n",
    "            continue\n",
    "        if length >= N:\n",
    "            classes = [x[0] for x in labels]\n",
    "            if ('1' in classes) | ('2' in classes):\n",
    "                bdd_filtered.append(bdd)"
   ]
  },
  {
   "cell_type": "code",
   "execution_count": 18,
   "metadata": {},
   "outputs": [
    {
     "data": {
      "text/plain": [
       "11477"
      ]
     },
     "execution_count": 18,
     "metadata": {},
     "output_type": "execute_result"
    }
   ],
   "source": [
    "len(bdd_filtered)"
   ]
  },
  {
   "cell_type": "code",
   "execution_count": 22,
   "metadata": {},
   "outputs": [],
   "source": [
    "with open('bdd{}_3c_atleast{}.txt'.format(len(bdd_filtered),N), 'w+') as the_file:\n",
    "    the_file.writelines([l + '\\n' for l in bdd_filtered])"
   ]
  },
  {
   "cell_type": "markdown",
   "metadata": {},
   "source": [
    "### nuScenes"
   ]
  },
  {
   "cell_type": "code",
   "execution_count": 19,
   "metadata": {},
   "outputs": [
    {
     "name": "stderr",
     "output_type": "stream",
     "text": [
      "100%|██████████| 43503/43503 [00:06<00:00, 6399.69it/s]\n"
     ]
    }
   ],
   "source": [
    "# select nuSenes images with at least N labels\n",
    "# 8297 has at least 4 labels\n",
    "N = 2\n",
    "nus_filtered = []\n",
    "for nus in tqdm(nuscenes_files):\n",
    "    label_file = nus[:-3] + 'txt'\n",
    "    if os.path.isfile(label_file):\n",
    "        with open(label_file) as f:\n",
    "            labels = f.readlines()\n",
    "            length = len(labels)\n",
    "        \n",
    "        if length >= N*2:\n",
    "            nus_filtered.append(nus)\n",
    "            continue    \n",
    "        if (length >= N):\n",
    "            classes = [x[0] for x in labels]\n",
    "            if ('1' in classes) | ('2' in classes):\n",
    "                nus_filtered.append(nus)"
   ]
  },
  {
   "cell_type": "code",
   "execution_count": 20,
   "metadata": {},
   "outputs": [
    {
     "data": {
      "text/plain": [
       "11291"
      ]
     },
     "execution_count": 20,
     "metadata": {},
     "output_type": "execute_result"
    }
   ],
   "source": [
    "len(nus_filtered)"
   ]
  },
  {
   "cell_type": "code",
   "execution_count": 21,
   "metadata": {},
   "outputs": [],
   "source": [
    "with open('nuscenes{}_3c_atleast{}.txt'.format(len(nus_filtered),N), 'w+') as the_file:\n",
    "    the_file.writelines([l + '\\n' for l in nus_filtered])"
   ]
  },
  {
   "cell_type": "markdown",
   "metadata": {},
   "source": [
    "## Get names of VRU images, combine with nuscenes and bdd100k"
   ]
  },
  {
   "cell_type": "code",
   "execution_count": 44,
   "metadata": {},
   "outputs": [],
   "source": [
    "vru_files = ['/media/sf/61CEC7C06EDB83CC/vru/data/vru4000_6jun/'+x for x in os.listdir('/media/sf/61CEC7C06EDB83CC/vru/data/vru4000_6jun/') if x[-3:] == 'png']"
   ]
  },
  {
   "cell_type": "code",
   "execution_count": 45,
   "metadata": {},
   "outputs": [
    {
     "name": "stdout",
     "output_type": "stream",
     "text": [
      "21000\n",
      "5768\n"
     ]
    }
   ],
   "source": [
    "nusbdd = nus_filtered + bdd_filtered\n",
    "random.shuffle(nusbdd)\n",
    "vru21k = nusbdd[:17000] + vru_files\n",
    "random.shuffle(vru21k)\n",
    "print(len(vru21k))\n",
    "\n",
    "vru21k_val = nusbdd[17000:]\n",
    "print(len(vru21k_val))"
   ]
  },
  {
   "cell_type": "code",
   "execution_count": 46,
   "metadata": {},
   "outputs": [],
   "source": [
    "with open('vru21k_train.txt', 'w+') as the_file:\n",
    "    the_file.writelines([l + '\\n' for l in vru21k])"
   ]
  },
  {
   "cell_type": "code",
   "execution_count": 47,
   "metadata": {},
   "outputs": [],
   "source": [
    "with open('vru21k_val5768.txt', 'w+') as the_file:\n",
    "    the_file.writelines([l + '\\n' for l in vru24k_val])"
   ]
  },
  {
   "cell_type": "markdown",
   "metadata": {},
   "source": [
    "---"
   ]
  },
  {
   "cell_type": "markdown",
   "metadata": {},
   "source": [
    "# VRU2k\n",
    "### Select data from nuScenes and BDD100k to mix with augmented data"
   ]
  },
  {
   "cell_type": "code",
   "execution_count": 485,
   "metadata": {},
   "outputs": [],
   "source": [
    "with open('/home/sf/darknet/data/bdd100k/bdd100k_480_3c_train.txt', 'r') as f:\n",
    "    bdd_files = [x[:-1] for x in f.readlines()]\n",
    "\n",
    "with open('/home/sf/darknet/data/nuscenes/train.txt', 'r') as f:\n",
    "    nuscenes_files = [x[:-1] for x in f.readlines()]"
   ]
  },
  {
   "cell_type": "markdown",
   "metadata": {},
   "source": [
    "### bdd100k"
   ]
  },
  {
   "cell_type": "code",
   "execution_count": 737,
   "metadata": {},
   "outputs": [
    {
     "name": "stderr",
     "output_type": "stream",
     "text": [
      "100%|██████████| 70000/70000 [00:14<00:00, 4781.72it/s]\n"
     ]
    }
   ],
   "source": [
    "\"\"\"\n",
    "select bdd100k images with at least N labels, with either a motorbike or bicycle\n",
    "- 24225 images have at least 1 label\n",
    "- 17119 have at least 2\n",
    "- 12178 have at least 3\n",
    "- 9337 have at least 4\n",
    "\"\"\"\n",
    "N = 3\n",
    "bdd_filtered = []\n",
    "for bdd in tqdm(bdd_files):\n",
    "    label_file = bdd[:-3] + 'txt'\n",
    "    if os.path.isfile(label_file):\n",
    "        with open(label_file) as f:\n",
    "            labels = f.readlines()\n",
    "            length = len(labels)\n",
    "            \n",
    "        if (length >= N):\n",
    "            classes = [x[0] for x in labels]\n",
    "            if ('1' in classes) | ('2' in classes):\n",
    "                bdd_filtered.append(bdd)"
   ]
  },
  {
   "cell_type": "code",
   "execution_count": 738,
   "metadata": {},
   "outputs": [
    {
     "data": {
      "text/plain": [
       "4134"
      ]
     },
     "execution_count": 738,
     "metadata": {},
     "output_type": "execute_result"
    }
   ],
   "source": [
    "len(bdd_filtered)"
   ]
  },
  {
   "cell_type": "code",
   "execution_count": 534,
   "metadata": {},
   "outputs": [],
   "source": [
    "with open('bdd{}_3c_atleast{}.txt'.format(len(bdd_filtered),N), 'w+') as the_file:\n",
    "    the_file.writelines([l + '\\n' for l in bdd_filtered])"
   ]
  },
  {
   "cell_type": "markdown",
   "metadata": {},
   "source": [
    "### nuScenes"
   ]
  },
  {
   "cell_type": "code",
   "execution_count": 739,
   "metadata": {},
   "outputs": [
    {
     "name": "stderr",
     "output_type": "stream",
     "text": [
      "100%|██████████| 43503/43503 [00:07<00:00, 5517.27it/s]\n"
     ]
    }
   ],
   "source": [
    "# select nuSenes images with at least N labels\n",
    "# 8297 has at least 4 labels\n",
    "N = 3\n",
    "nus_filtered = []\n",
    "for nus in tqdm(nuscenes_files):\n",
    "    label_file = nus[:-3] + 'txt'\n",
    "    if os.path.isfile(label_file):\n",
    "        with open(label_file) as f:\n",
    "            labels = f.readlines()\n",
    "            length = len(labels)\n",
    "            \n",
    "        if (length >= N):\n",
    "            classes = [x[0] for x in labels]\n",
    "            if ('1' in classes) | ('2' in classes):\n",
    "                nus_filtered.append(nus)"
   ]
  },
  {
   "cell_type": "code",
   "execution_count": 740,
   "metadata": {},
   "outputs": [
    {
     "data": {
      "text/plain": [
       "3209"
      ]
     },
     "execution_count": 740,
     "metadata": {},
     "output_type": "execute_result"
    }
   ],
   "source": [
    "len(nus_filtered)"
   ]
  },
  {
   "cell_type": "code",
   "execution_count": 539,
   "metadata": {},
   "outputs": [],
   "source": [
    "with open('nuscenes{}_3c_atleast{}.txt'.format(len(nus_filtered),N), 'w+') as the_file:\n",
    "    the_file.writelines([l + '\\n' for l in nus_filtered])"
   ]
  },
  {
   "cell_type": "markdown",
   "metadata": {},
   "source": [
    "## Get names of VRU images, combine with nuscenes and bdd100k"
   ]
  },
  {
   "cell_type": "code",
   "execution_count": 590,
   "metadata": {},
   "outputs": [],
   "source": [
    "vru_files = ['/media/sf/61CEC7C06EDB83CC/vru/data/'+x for x in os.listdir('/media/sf/61CEC7C06EDB83CC/vru/data/vru200_4jun/') if x[-3:] == 'png']"
   ]
  },
  {
   "cell_type": "code",
   "execution_count": 600,
   "metadata": {},
   "outputs": [],
   "source": [
    "nusbdd = nus_filtered + bdd_filtered\n",
    "random.shuffle(nusbdd)\n",
    "vru2k = nusbdd[:1800] + vru_files\n",
    "random.shuffle(vru2k)"
   ]
  },
  {
   "cell_type": "code",
   "execution_count": 601,
   "metadata": {},
   "outputs": [],
   "source": [
    "with open('vru2k.txt', 'w+') as the_file:\n",
    "    the_file.writelines([l + '\\n' for l in vru2k])"
   ]
  },
  {
   "cell_type": "markdown",
   "metadata": {},
   "source": [
    "---"
   ]
  },
  {
   "cell_type": "code",
   "execution_count": 312,
   "metadata": {},
   "outputs": [],
   "source": [
    "def create_grid(x,y):\n",
    "    positions = []\n",
    "    for i in range(x):\n",
    "        for j in range(y):\n",
    "            positions.append((i+1,j+1))\n",
    "    return positions"
   ]
  },
  {
   "cell_type": "code",
   "execution_count": 313,
   "metadata": {},
   "outputs": [],
   "source": [
    "def is_large(PILimage):\n",
    "    return (PILimage.width > 60),(PILimage.height > 48)"
   ]
  }
 ],
 "metadata": {
  "kernelspec": {
   "display_name": "Python 3",
   "language": "python",
   "name": "python3"
  },
  "language_info": {
   "codemirror_mode": {
    "name": "ipython",
    "version": 3
   },
   "file_extension": ".py",
   "mimetype": "text/x-python",
   "name": "python",
   "nbconvert_exporter": "python",
   "pygments_lexer": "ipython3",
   "version": "3.5.2"
  }
 },
 "nbformat": 4,
 "nbformat_minor": 2
}
